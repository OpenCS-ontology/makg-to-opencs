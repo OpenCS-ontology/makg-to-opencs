{
 "cells": [
  {
   "cell_type": "code",
   "execution_count": 1,
   "outputs": [],
   "source": [
    "import gzip\n",
    "import pandas as pd\n",
    "from rdflib import Graph, Namespace, URIRef\n",
    "from rdflib.namespace import OWL\n",
    "import re"
   ],
   "metadata": {
    "collapsed": false,
    "pycharm": {
     "name": "#%%\n"
    }
   }
  },
  {
   "cell_type": "code",
   "execution_count": 2,
   "outputs": [],
   "source": [
    "ma_prop = Namespace('https://makg.org/property/')"
   ],
   "metadata": {
    "collapsed": false,
    "pycharm": {
     "name": "#%%\n"
    }
   }
  },
  {
   "cell_type": "code",
   "execution_count": 3,
   "metadata": {
    "collapsed": true,
    "pycharm": {
     "name": "#%%\n"
    }
   },
   "outputs": [
    {
     "name": "stderr",
     "output_type": "stream",
     "text": [
      "http://dbpedia.org/resource/Optimum_\"L\"_filter does not look like a valid URI, trying to serialize this will break.\n",
      "http://dbpedia.org/resource/W^X does not look like a valid URI, trying to serialize this will break.\n",
      "http://dbpedia.org/resource/Capitalization_of_\"Internet\" does not look like a valid URI, trying to serialize this will break.\n",
      "http://dbpedia.org/resource/On_the_Origin_of_the_\"Influencing_Machine\"_in_Schizophrenia does not look like a valid URI, trying to serialize this will break.\n"
     ]
    },
    {
     "name": "stdout",
     "output_type": "stream",
     "text": [
      "721710\n"
     ]
    }
   ],
   "source": [
    "g = Graph()\n",
    "with gzip.open('data/input.ttl.gz', 'rt') as fp:\n",
    "    g.parse(fp)\n",
    "print(len(g))"
   ]
  },
  {
   "cell_type": "code",
   "execution_count": 4,
   "outputs": [],
   "source": [
    "ent_to_level = {\n",
    "    str(s): [o.value]\n",
    "    for (s, o) in g.subject_objects(ma_prop.level)\n",
    "}"
   ],
   "metadata": {
    "collapsed": false,
    "pycharm": {
     "name": "#%%\n"
    }
   }
  },
  {
   "cell_type": "code",
   "execution_count": 5,
   "outputs": [],
   "source": [
    "df_ents = pd.DataFrame.from_dict(ent_to_level, orient='index', columns=['level'])\n",
    "df_ents.sort_values('level', inplace=True)\n",
    "df_ents.reset_index(inplace=True, names='entity')\n",
    "df_ents.reset_index(inplace=True, names='new_id')\n",
    "df_ents.new_id += 1"
   ],
   "metadata": {
    "collapsed": false,
    "pycharm": {
     "name": "#%%\n"
    }
   }
  },
  {
   "cell_type": "code",
   "execution_count": 6,
   "outputs": [],
   "source": [
    "iri_map = {\n",
    "    r.entity: f'https://w3id.org/ocs/ont/C{r.new_id}'\n",
    "    for r in df_ents.itertuples()\n",
    "}"
   ],
   "metadata": {
    "collapsed": false,
    "pycharm": {
     "name": "#%%\n"
    }
   }
  },
  {
   "cell_type": "code",
   "execution_count": 7,
   "outputs": [],
   "source": [
    "with gzip.open('data/input.ttl.gz', 'rt') as f_in, gzip.open('data/output.ttl.gz', 'wt') as f_out:\n",
    "    while True:\n",
    "        l = f_in.readline()\n",
    "        if not l:\n",
    "            break\n",
    "        l = re.sub(\n",
    "            r'https://makg\\.org/entity/\\d+',\n",
    "            lambda m: iri_map[m.group(0)],\n",
    "            l\n",
    "        )\n",
    "        f_out.write(l)"
   ],
   "metadata": {
    "collapsed": false,
    "pycharm": {
     "name": "#%%\n"
    }
   }
  },
  {
   "cell_type": "code",
   "execution_count": 8,
   "outputs": [],
   "source": [
    "g_map = Graph()\n",
    "for (old_iri, new_iri) in iri_map.items():\n",
    "    g_map.add((URIRef(new_iri), OWL.sameAs, URIRef(old_iri)))"
   ],
   "metadata": {
    "collapsed": false,
    "pycharm": {
     "name": "#%%\n"
    }
   }
  },
  {
   "cell_type": "code",
   "execution_count": 10,
   "outputs": [],
   "source": [
    "with gzip.open('data/mapping.ttl.gz', 'wb') as fp:\n",
    "    g_map.serialize(destination=fp)"
   ],
   "metadata": {
    "collapsed": false,
    "pycharm": {
     "name": "#%%\n"
    }
   }
  }
 ],
 "metadata": {
  "kernelspec": {
   "display_name": "Python 3",
   "language": "python",
   "name": "python3"
  },
  "language_info": {
   "codemirror_mode": {
    "name": "ipython",
    "version": 2
   },
   "file_extension": ".py",
   "mimetype": "text/x-python",
   "name": "python",
   "nbconvert_exporter": "python",
   "pygments_lexer": "ipython2",
   "version": "2.7.6"
  }
 },
 "nbformat": 4,
 "nbformat_minor": 0
}